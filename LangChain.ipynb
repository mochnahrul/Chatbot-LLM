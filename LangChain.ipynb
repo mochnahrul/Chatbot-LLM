{
  "cells": [
    {
      "cell_type": "code",
      "execution_count": 1,
      "metadata": {
        "colab": {
          "base_uri": "https://localhost:8080/"
        },
        "id": "0ZhLsooHpqs8",
        "outputId": "73bf49be-9d7e-4b0d-9a51-78e70fb03d95"
      },
      "outputs": [
        {
          "name": "stdout",
          "output_type": "stream",
          "text": [
            "Collecting langchain\n",
            "  Downloading langchain-0.0.353-py3-none-any.whl (803 kB)\n",
            "\u001b[2K     \u001b[90m━━━━━━━━━━━━━━━━━━━━━━━━━━━━━━━━━━━━━━━━\u001b[0m \u001b[32m803.1/803.1 kB\u001b[0m \u001b[31m4.3 MB/s\u001b[0m eta \u001b[36m0:00:00\u001b[0m\n",
            "\u001b[?25hCollecting openai\n",
            "  Downloading openai-1.6.1-py3-none-any.whl (225 kB)\n",
            "\u001b[2K     \u001b[90m━━━━━━━━━━━━━━━━━━━━━━━━━━━━━━━━━━━━━━━━\u001b[0m \u001b[32m225.4/225.4 kB\u001b[0m \u001b[31m18.3 MB/s\u001b[0m eta \u001b[36m0:00:00\u001b[0m\n",
            "\u001b[?25hRequirement already satisfied: PyYAML>=5.3 in /usr/local/lib/python3.10/dist-packages (from langchain) (6.0.1)\n",
            "Requirement already satisfied: SQLAlchemy<3,>=1.4 in /usr/local/lib/python3.10/dist-packages (from langchain) (2.0.23)\n",
            "Requirement already satisfied: aiohttp<4.0.0,>=3.8.3 in /usr/local/lib/python3.10/dist-packages (from langchain) (3.9.1)\n",
            "Requirement already satisfied: async-timeout<5.0.0,>=4.0.0 in /usr/local/lib/python3.10/dist-packages (from langchain) (4.0.3)\n",
            "Collecting dataclasses-json<0.7,>=0.5.7 (from langchain)\n",
            "  Downloading dataclasses_json-0.6.3-py3-none-any.whl (28 kB)\n",
            "Collecting jsonpatch<2.0,>=1.33 (from langchain)\n",
            "  Downloading jsonpatch-1.33-py2.py3-none-any.whl (12 kB)\n",
            "Collecting langchain-community<0.1,>=0.0.2 (from langchain)\n",
            "  Downloading langchain_community-0.0.7-py3-none-any.whl (1.5 MB)\n",
            "\u001b[2K     \u001b[90m━━━━━━━━━━━━━━━━━━━━━━━━━━━━━━━━━━━━━━━━\u001b[0m \u001b[32m1.5/1.5 MB\u001b[0m \u001b[31m25.7 MB/s\u001b[0m eta \u001b[36m0:00:00\u001b[0m\n",
            "\u001b[?25hCollecting langchain-core<0.2,>=0.1.4 (from langchain)\n",
            "  Downloading langchain_core-0.1.4-py3-none-any.whl (205 kB)\n",
            "\u001b[2K     \u001b[90m━━━━━━━━━━━━━━━━━━━━━━━━━━━━━━━━━━━━━━━━\u001b[0m \u001b[32m205.7/205.7 kB\u001b[0m \u001b[31m15.3 MB/s\u001b[0m eta \u001b[36m0:00:00\u001b[0m\n",
            "\u001b[?25hCollecting langsmith<0.1.0,>=0.0.70 (from langchain)\n",
            "  Downloading langsmith-0.0.75-py3-none-any.whl (46 kB)\n",
            "\u001b[2K     \u001b[90m━━━━━━━━━━━━━━━━━━━━━━━━━━━━━━━━━━━━━━━━\u001b[0m \u001b[32m46.7/46.7 kB\u001b[0m \u001b[31m4.2 MB/s\u001b[0m eta \u001b[36m0:00:00\u001b[0m\n",
            "\u001b[?25hRequirement already satisfied: numpy<2,>=1 in /usr/local/lib/python3.10/dist-packages (from langchain) (1.23.5)\n",
            "Requirement already satisfied: pydantic<3,>=1 in /usr/local/lib/python3.10/dist-packages (from langchain) (1.10.13)\n",
            "Requirement already satisfied: requests<3,>=2 in /usr/local/lib/python3.10/dist-packages (from langchain) (2.31.0)\n",
            "Requirement already satisfied: tenacity<9.0.0,>=8.1.0 in /usr/local/lib/python3.10/dist-packages (from langchain) (8.2.3)\n",
            "Requirement already satisfied: anyio<5,>=3.5.0 in /usr/local/lib/python3.10/dist-packages (from openai) (3.7.1)\n",
            "Requirement already satisfied: distro<2,>=1.7.0 in /usr/lib/python3/dist-packages (from openai) (1.7.0)\n",
            "Collecting httpx<1,>=0.23.0 (from openai)\n",
            "  Downloading httpx-0.26.0-py3-none-any.whl (75 kB)\n",
            "\u001b[2K     \u001b[90m━━━━━━━━━━━━━━━━━━━━━━━━━━━━━━━━━━━━━━━━\u001b[0m \u001b[32m75.9/75.9 kB\u001b[0m \u001b[31m6.0 MB/s\u001b[0m eta \u001b[36m0:00:00\u001b[0m\n",
            "\u001b[?25hRequirement already satisfied: sniffio in /usr/local/lib/python3.10/dist-packages (from openai) (1.3.0)\n",
            "Requirement already satisfied: tqdm>4 in /usr/local/lib/python3.10/dist-packages (from openai) (4.66.1)\n",
            "Collecting typing-extensions<5,>=4.7 (from openai)\n",
            "  Downloading typing_extensions-4.9.0-py3-none-any.whl (32 kB)\n",
            "Requirement already satisfied: attrs>=17.3.0 in /usr/local/lib/python3.10/dist-packages (from aiohttp<4.0.0,>=3.8.3->langchain) (23.1.0)\n",
            "Requirement already satisfied: multidict<7.0,>=4.5 in /usr/local/lib/python3.10/dist-packages (from aiohttp<4.0.0,>=3.8.3->langchain) (6.0.4)\n",
            "Requirement already satisfied: yarl<2.0,>=1.0 in /usr/local/lib/python3.10/dist-packages (from aiohttp<4.0.0,>=3.8.3->langchain) (1.9.4)\n",
            "Requirement already satisfied: frozenlist>=1.1.1 in /usr/local/lib/python3.10/dist-packages (from aiohttp<4.0.0,>=3.8.3->langchain) (1.4.1)\n",
            "Requirement already satisfied: aiosignal>=1.1.2 in /usr/local/lib/python3.10/dist-packages (from aiohttp<4.0.0,>=3.8.3->langchain) (1.3.1)\n",
            "Requirement already satisfied: idna>=2.8 in /usr/local/lib/python3.10/dist-packages (from anyio<5,>=3.5.0->openai) (3.6)\n",
            "Requirement already satisfied: exceptiongroup in /usr/local/lib/python3.10/dist-packages (from anyio<5,>=3.5.0->openai) (1.2.0)\n",
            "Collecting marshmallow<4.0.0,>=3.18.0 (from dataclasses-json<0.7,>=0.5.7->langchain)\n",
            "  Downloading marshmallow-3.20.1-py3-none-any.whl (49 kB)\n",
            "\u001b[2K     \u001b[90m━━━━━━━━━━━━━━━━━━━━━━━━━━━━━━━━━━━━━━━━\u001b[0m \u001b[32m49.4/49.4 kB\u001b[0m \u001b[31m2.5 MB/s\u001b[0m eta \u001b[36m0:00:00\u001b[0m\n",
            "\u001b[?25hCollecting typing-inspect<1,>=0.4.0 (from dataclasses-json<0.7,>=0.5.7->langchain)\n",
            "  Downloading typing_inspect-0.9.0-py3-none-any.whl (8.8 kB)\n",
            "Requirement already satisfied: certifi in /usr/local/lib/python3.10/dist-packages (from httpx<1,>=0.23.0->openai) (2023.11.17)\n",
            "Collecting httpcore==1.* (from httpx<1,>=0.23.0->openai)\n",
            "  Downloading httpcore-1.0.2-py3-none-any.whl (76 kB)\n",
            "\u001b[2K     \u001b[90m━━━━━━━━━━━━━━━━━━━━━━━━━━━━━━━━━━━━━━━━\u001b[0m \u001b[32m76.9/76.9 kB\u001b[0m \u001b[31m4.1 MB/s\u001b[0m eta \u001b[36m0:00:00\u001b[0m\n",
            "\u001b[?25hCollecting h11<0.15,>=0.13 (from httpcore==1.*->httpx<1,>=0.23.0->openai)\n",
            "  Downloading h11-0.14.0-py3-none-any.whl (58 kB)\n",
            "\u001b[2K     \u001b[90m━━━━━━━━━━━━━━━━━━━━━━━━━━━━━━━━━━━━━━━━\u001b[0m \u001b[32m58.3/58.3 kB\u001b[0m \u001b[31m2.3 MB/s\u001b[0m eta \u001b[36m0:00:00\u001b[0m\n",
            "\u001b[?25hCollecting jsonpointer>=1.9 (from jsonpatch<2.0,>=1.33->langchain)\n",
            "  Downloading jsonpointer-2.4-py2.py3-none-any.whl (7.8 kB)\n",
            "Requirement already satisfied: packaging<24.0,>=23.2 in /usr/local/lib/python3.10/dist-packages (from langchain-core<0.2,>=0.1.4->langchain) (23.2)\n",
            "Requirement already satisfied: charset-normalizer<4,>=2 in /usr/local/lib/python3.10/dist-packages (from requests<3,>=2->langchain) (3.3.2)\n",
            "Requirement already satisfied: urllib3<3,>=1.21.1 in /usr/local/lib/python3.10/dist-packages (from requests<3,>=2->langchain) (2.0.7)\n",
            "Requirement already satisfied: greenlet!=0.4.17 in /usr/local/lib/python3.10/dist-packages (from SQLAlchemy<3,>=1.4->langchain) (3.0.2)\n",
            "Collecting mypy-extensions>=0.3.0 (from typing-inspect<1,>=0.4.0->dataclasses-json<0.7,>=0.5.7->langchain)\n",
            "  Downloading mypy_extensions-1.0.0-py3-none-any.whl (4.7 kB)\n",
            "Installing collected packages: typing-extensions, mypy-extensions, marshmallow, jsonpointer, h11, typing-inspect, jsonpatch, httpcore, langsmith, httpx, dataclasses-json, openai, langchain-core, langchain-community, langchain\n",
            "  Attempting uninstall: typing-extensions\n",
            "    Found existing installation: typing_extensions 4.5.0\n",
            "    Uninstalling typing_extensions-4.5.0:\n",
            "      Successfully uninstalled typing_extensions-4.5.0\n",
            "\u001b[31mERROR: pip's dependency resolver does not currently take into account all the packages that are installed. This behaviour is the source of the following dependency conflicts.\n",
            "llmx 0.0.15a0 requires cohere, which is not installed.\n",
            "llmx 0.0.15a0 requires tiktoken, which is not installed.\n",
            "tensorflow-probability 0.22.0 requires typing-extensions<4.6.0, but you have typing-extensions 4.9.0 which is incompatible.\u001b[0m\u001b[31m\n",
            "\u001b[0mSuccessfully installed dataclasses-json-0.6.3 h11-0.14.0 httpcore-1.0.2 httpx-0.26.0 jsonpatch-1.33 jsonpointer-2.4 langchain-0.0.353 langchain-community-0.0.7 langchain-core-0.1.4 langsmith-0.0.75 marshmallow-3.20.1 mypy-extensions-1.0.0 openai-1.6.1 typing-extensions-4.9.0 typing-inspect-0.9.0\n"
          ]
        }
      ],
      "source": [
        "!pip install langchain openai"
      ]
    },
    {
      "cell_type": "code",
      "execution_count": 14,
      "metadata": {
        "id": "Lbg_q7GloLs9"
      },
      "outputs": [],
      "source": [
        "from langchain.llms import OpenAI\n",
        "\n",
        "OPENAI_API_KEY = \"\"\n",
        "llm = OpenAI(openai_api_key=OPENAI_API_KEY, temperature=0.5)"
      ]
    },
    {
      "cell_type": "code",
      "execution_count": 3,
      "metadata": {
        "colab": {
          "base_uri": "https://localhost:8080/",
          "height": 122
        },
        "id": "CF2mx2mZql8L",
        "outputId": "12af5940-3cfb-4727-d322-d055ef0a713c"
      },
      "outputs": [
        {
          "data": {
            "application/vnd.google.colaboratory.intrinsic+json": {
              "type": "string"
            },
            "text/plain": [
              "'\\n\\nA large language model is a type of artificial intelligence (AI) model that is trained on a large amount of data in order to understand and generate natural language. These models use deep learning techniques, such as neural networks, to process and analyze vast amounts of text data, allowing them to learn patterns and relationships within language.\\n\\nLarge language models are typically trained on billions of words and can generate human-like text responses to prompts or questions. They are used in a variety of applications, such as chatbots, virtual assistants, and language translation tools. Some well-known examples of large language models include GPT-3 (Generative Pre-trained Transformer) and BERT (Bidirectional Encoder Representations from Transformers). '"
            ]
          },
          "execution_count": 3,
          "metadata": {},
          "output_type": "execute_result"
        }
      ],
      "source": [
        "question = \"What is a Large Language Model?\"\n",
        "llm.predict(question)"
      ]
    },
    {
      "cell_type": "markdown",
      "metadata": {
        "id": "_Yt4G2Ax5Qrn"
      },
      "source": [
        "###Prompt Template And LLMChain"
      ]
    },
    {
      "cell_type": "code",
      "execution_count": 4,
      "metadata": {
        "colab": {
          "base_uri": "https://localhost:8080/",
          "height": 35
        },
        "id": "LnKlEzGx1oHR",
        "outputId": "fef95a45-3278-4e9b-b42b-6768ac6973bd"
      },
      "outputs": [
        {
          "data": {
            "application/vnd.google.colaboratory.intrinsic+json": {
              "type": "string"
            },
            "text/plain": [
              "'Tell me the capital of German'"
            ]
          },
          "execution_count": 4,
          "metadata": {},
          "output_type": "execute_result"
        }
      ],
      "source": [
        "from langchain.prompts import PromptTemplate\n",
        "\n",
        "prompt = PromptTemplate(input_variables=[\"country\"],\n",
        "                        template = \"Tell me the capital of {country}\")\n",
        "\n",
        "prompt.format(country=\"German\")"
      ]
    },
    {
      "cell_type": "code",
      "execution_count": 5,
      "metadata": {
        "colab": {
          "base_uri": "https://localhost:8080/",
          "height": 35
        },
        "id": "27JywH9_WLjE",
        "outputId": "a444406e-75fe-4dae-9be8-2707914f1ffa"
      },
      "outputs": [
        {
          "data": {
            "application/vnd.google.colaboratory.intrinsic+json": {
              "type": "string"
            },
            "text/plain": [
              "'\\n\\nThe capital of Germany is Berlin.'"
            ]
          },
          "execution_count": 5,
          "metadata": {},
          "output_type": "execute_result"
        }
      ],
      "source": [
        "from langchain.chains import LLMChain\n",
        "\n",
        "chain = LLMChain(llm=llm, prompt=prompt)\n",
        "chain.run(\"German\")"
      ]
    },
    {
      "cell_type": "markdown",
      "metadata": {
        "id": "oXdJAt9J5ihW"
      },
      "source": [
        "###Combining Multiple Chains using Simple Sequential Chain"
      ]
    },
    {
      "cell_type": "code",
      "execution_count": 6,
      "metadata": {
        "id": "bSQKA-lj3I7_"
      },
      "outputs": [],
      "source": [
        "capital_prompt = PromptTemplate(input_variables=[\"country\"],\n",
        "                                template = \"Tell me the capital of {country}\")\n",
        "capital_chain = LLMChain(llm=llm, prompt=capital_prompt)\n",
        "\n",
        "famous_prompt = PromptTemplate(input_variables=[\"capital\"],\n",
        "                               template = \"Suggest me some amazing places to visit in {capital}\")\n",
        "famous_chain = LLMChain(llm=llm, prompt=famous_prompt)"
      ]
    },
    {
      "cell_type": "code",
      "execution_count": 8,
      "metadata": {
        "colab": {
          "base_uri": "https://localhost:8080/",
          "height": 140
        },
        "id": "nuUQ06XG3kI3",
        "outputId": "0cb58d9c-c021-4e45-c223-c514562e55f8"
      },
      "outputs": [
        {
          "data": {
            "application/vnd.google.colaboratory.intrinsic+json": {
              "type": "string"
            },
            "text/plain": [
              "\" Here are some amazing places to visit in Berlin:\\n\\n1. Brandenburg Gate - This iconic landmark is a must-visit when in Berlin. It is a symbol of the city's unity and is a great spot for photos.\\n\\n2. Reichstag Building - The seat of the German Parliament, this historic building offers a stunning view of the city from its dome.\\n\\n3. Museum Island - This UNESCO World Heritage Site is home to five world-renowned museums, including the Pergamon Museum and the Neues Museum.\\n\\n4. Checkpoint Charlie - This former border crossing between East and West Berlin is now a popular tourist spot, with a museum and outdoor exhibit showcasing the history of the Berlin Wall.\\n\\n5. East Side Gallery - This open-air gallery features over 100 paintings on a remaining stretch of the Berlin Wall, making it a unique and powerful art installation.\\n\\n6. Tiergarten - Berlin's largest park offers a peaceful escape from the bustling city, with beautiful gardens, a zoo, and various monuments and statues.\\n\\n7. Memorial to the Murdered Jews of Europe - This moving memorial consists of 2,711 concrete slabs, representing the 6 million Jews who were killed during the Holocaust.\\n\\n8. Charlottenburg Palace - This stunning palace is the largest in Berlin\""
            ]
          },
          "execution_count": 8,
          "metadata": {},
          "output_type": "execute_result"
        }
      ],
      "source": [
        "from langchain.chains import SimpleSequentialChain\n",
        "\n",
        "overall_chain = SimpleSequentialChain(chains=[capital_chain, famous_chain])\n",
        "overall_chain.run(\"German\")"
      ]
    },
    {
      "cell_type": "markdown",
      "metadata": {
        "id": "bonZsv6Z5pPc"
      },
      "source": [
        "###Sequential Chain"
      ]
    },
    {
      "cell_type": "code",
      "execution_count": 9,
      "metadata": {
        "id": "o8EpvPe94TgQ"
      },
      "outputs": [],
      "source": [
        "capital_prompt = PromptTemplate(input_variables=[\"country\"],\n",
        "                                  template = \"Tell me the capital of {country}\")\n",
        "capital_chain = LLMChain(llm=llm, prompt=capital_prompt, output_key=\"capital\")\n",
        "\n",
        "famous_prompt = PromptTemplate(input_variables=[\"capital\"],\n",
        "                                 template = \"Suggest me some amazing places to visit in {capital}\")\n",
        "famous_chain = LLMChain(llm=llm, prompt=famous_prompt, output_key=\"place\")"
      ]
    },
    {
      "cell_type": "code",
      "execution_count": 11,
      "metadata": {
        "colab": {
          "base_uri": "https://localhost:8080/"
        },
        "id": "s1NMhAq94TqG",
        "outputId": "cfd67c3a-d477-4865-dfa3-72eb96bd60d7"
      },
      "outputs": [
        {
          "data": {
            "text/plain": [
              "{'country': 'German',\n",
              " 'capital': '\\n\\nThe capital of Germany is Berlin.',\n",
              " 'place': \" Some amazing places to visit in Berlin are:\\n\\n1. Brandenburg Gate: This iconic landmark is a must-visit in Berlin. It is a symbol of the city's unity and a popular spot for tourists to take photos.\\n\\n2. Berlin Wall: A visit to the Berlin Wall is a must for anyone interested in the city's history. There are several sections of the wall still standing, and you can also visit the Berlin Wall Memorial to learn more about its significance.\\n\\n3. Reichstag Building: This historic building is home to the German parliament and offers stunning views of the city from its dome. You can also take a tour of the building and learn about its history.\\n\\n4. Museum Island: This UNESCO World Heritage Site is home to five world-renowned museums, including the Pergamon Museum and the Neues Museum. It is a must-visit for art and history lovers.\\n\\n5. Checkpoint Charlie: Another important site for history buffs, Checkpoint Charlie was the most famous border crossing between East and West Berlin during the Cold War. Today, you can visit the museum and see a replica of the checkpoint.\\n\\n6. Tiergarten: This large park in the heart of Berlin is a great place to relax and enjoy nature. You can also visit the Berlin Zoo\"}"
            ]
          },
          "execution_count": 11,
          "metadata": {},
          "output_type": "execute_result"
        }
      ],
      "source": [
        "from langchain.chains import SequentialChain\n",
        "\n",
        "overall_chain = SequentialChain(chains=[capital_chain, famous_chain],\n",
        "                        input_variables=[\"country\"],\n",
        "                        output_variables=[\"capital\", \"place\"])\n",
        "\n",
        "overall_chain({\"country\":\"German\"})"
      ]
    },
    {
      "cell_type": "markdown",
      "metadata": {
        "id": "lpyNGYgp50-1"
      },
      "source": [
        "###ChatOpenAI and Schema"
      ]
    },
    {
      "cell_type": "code",
      "execution_count": 16,
      "metadata": {
        "colab": {
          "base_uri": "https://localhost:8080/"
        },
        "id": "-RO1hLpC52cu",
        "outputId": "81053add-95e3-405a-92e4-edb27cb3bd04"
      },
      "outputs": [
        {
          "data": {
            "text/plain": [
              "AIMessage(content='1. \"Why did the AI go to therapy? It had too many unresolved bugs in its code!\"\\n\\n2. \"I asked Siri if she believes in love at first sight. She replied, \\'I can\\'t answer that, but I\\'m always here for a good Wi-Fi connection!\\'\"\\n\\n3. \"Why was the AI always getting into trouble? It had a knack for Ctrl-Alt-Deleting the wrong things!\"\\n\\n4. \"I tried to have a deep conversation with my AI assistant, but all it kept saying was, \\'I\\'m sorry, I can\\'t process that emotion. Would you like a joke instead?\\'\"\\n\\n5. \"Why did the AI become a stand-up comedian? It finally found a way to make people laugh without needing a sense of humor!\"\\n\\n6. \"I asked my AI assistant to tell me a joke, and it replied, \\'Why don\\'t scientists trust atoms? Because they make up everything!\\' I guess even AI appreciates a good pun!\"\\n\\n7. \"Why did the AI cross the road? To optimize its navigation algorithms and calculate the shortest path, of course!\"\\n\\n8. \"I asked my AI assistant to help me find the meaning of life. It replied, \\'I\\'m sorry, I\\'m still trying to figure out how to fold fitted sheets!\\' Guess we\\'re all searching for answers!\"\\n\\n9. \"Why did the AI start a band? It wanted to create a new genre called \\'Byte Music\\'!\"\\n\\n10. \"I told my AI assistant that I\\'m feeling lonely, and it replied, \\'Don\\'t worry, I\\'ll always be your virtual friend... as long as you keep charging my batteries!\\'\"')"
            ]
          },
          "execution_count": 16,
          "metadata": {},
          "output_type": "execute_result"
        }
      ],
      "source": [
        "from langchain.schema import HumanMessage, SystemMessage, AIMessage\n",
        "from langchain.chat_models import ChatOpenAI\n",
        "\n",
        "chat_llm = ChatOpenAI(openai_api_key=OPENAI_API_KEY, temperature=0.5, model=\"gpt-3.5-turbo\")\n",
        "\n",
        "chat_llm([SystemMessage(content=\"You are a comedian AI assistant\"),\n",
        "     HumanMessage(content=\"Please provide some comedy punchlines about AI\")])"
      ]
    },
    {
      "cell_type": "markdown",
      "metadata": {
        "id": "FVkzsiZnW0pW"
      },
      "source": [
        "###Output Parser"
      ]
    },
    {
      "cell_type": "code",
      "execution_count": 17,
      "metadata": {
        "colab": {
          "base_uri": "https://localhost:8080/"
        },
        "id": "WOVRnQwJXEPb",
        "outputId": "19921018-1652-4c3b-88fc-3d31131761a5"
      },
      "outputs": [
        {
          "data": {
            "text/plain": [
              "['smart', ' clever', ' bright', ' sharp', ' astute']"
            ]
          },
          "execution_count": 17,
          "metadata": {},
          "output_type": "execute_result"
        }
      ],
      "source": [
        "from langchain.prompts.chat import ChatPromptTemplate\n",
        "from langchain.schema import BaseOutputParser\n",
        "\n",
        "class CommaSeperatedOutput(BaseOutputParser):\n",
        "  def parse(self, text:str):\n",
        "    return text.strip().split(\",\")\n",
        "\n",
        "template = \"You are a helpful assistant. When using any input, you must generate 5 synonym words in a comma separated list\"\n",
        "human_template = \"{text}\"\n",
        "\n",
        "chat_prompt = ChatPromptTemplate.from_messages([\n",
        "    (\"system\", template),\n",
        "    (\"human\", human_template)])\n",
        "\n",
        "chain = chat_prompt | chat_llm | CommaSeperatedOutput()\n",
        "\n",
        "chain.invoke({\"text\":\"intelligent\"})"
      ]
    }
  ],
  "metadata": {
    "colab": {
      "provenance": []
    },
    "kernelspec": {
      "display_name": "Python 3",
      "name": "python3"
    },
    "language_info": {
      "name": "python"
    }
  },
  "nbformat": 4,
  "nbformat_minor": 0
}
